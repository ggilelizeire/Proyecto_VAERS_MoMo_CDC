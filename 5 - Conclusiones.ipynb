{
 "cells": [
  {
   "cell_type": "markdown",
   "id": "dab4fc04-dd14-4fdb-a199-80588cd76344",
   "metadata": {},
   "source": [
    "---\n",
    "# <span style='color:#2a54b2;;font-family:Verdana'><center><b>5. ¿Conclusiones?\n",
    "---"
   ]
  },
  {
   "cell_type": "markdown",
   "id": "c011104e-8048-4e92-8778-ad00e5ff9210",
   "metadata": {},
   "source": [
    "<blockquote><p style=\"font-family:Verdana; font-size:15px; color:darkblue\"><b><i>\n",
    "Bueno, no podemos decir que no nos hayamos enfangado en esta travesía, pero tampoco ha sido para tanto, ¿no? Recapitulemos ahora lo que nos hemos encontrado en el camino, e intentemos sacar algunas conclusiones.<br><br>\n",
    "A pesar de las lógicas reservas que tenemos para con los reportes del VAERS, del análisis de sus datasets debemos concluir que, o bien es cierto que las vacunas de la COVID-19 están produciendo muchos más efectos adversos que todas las demás vacunas juntas, a lo largo de nada menos que 30 años, o bien en 2021 se pusieron de acuerdo muchísimas personas para realizar reportes falsos, o erróneos. Yo no veo más posibilidades, pero tampoco me atrevo a poner la mano en el fuego por una de las dos opciones, ni tampoco descarto que la realidad sea una mezcla de las dos.<br>\n",
    "En cualquier caso, de dichos reportes extrajimos una valiosa información, sobre la cantidad de días que suelen pasar entre la vacunación y el fallecimiento del supuesto afectado por la vacuna (habitualmente 10-15 días, pero hasta unos 30-40 con cierta regularidad), que nos dió una pista para continuar nuestro análisis con el resto de datasets, ya con datos que podemos considerar \"reales\".<br><br>\n",
    "En el MoMo, por su parte, hemos encontrado picos de fallecimientos coincidentes con fechas clave de las campañas de vacunación. Concretamente, un pico muy acusado justo después del inicio de la vacunación, otro en verano de 2021, cuando se vacunó a los grupos de edad inferiores a 40-50 años (y cuando ya estaba \"inmunizada\" toda la población mayor y vulnerable), y otro en noviembre de 2021, coincidiente con el inicio de la aplicación de la tercera dosis.<br>\n",
    "Además, en su dataset hemos comprobado la distribución por grupos de edad, y aunque la subdivisión que han hecho es muy incompleta (ya que solo se especifican tres grupos, y uno de ellos incluye a todos los menores de 65 años) nos hemos encontrado distribuciones particulares de cada grupo en las diferentes olas, que pueden apuntar a que algún factor externo (que bien podría ser la vacunación) determinó diferencias en la incidencia de cada grupo en cada pico de fallecimientos.<br>\n",
    "También nos ha extrañado que en todo 2021 hubo exceso de muertes, salvo en marzo y en diciembre (que está incompleto). Pero, en definitiva, debemos reconocer que el análisis del dataset del MoMo no nos ha devuelto certezas, sino más bien indicios.<br><br>\n",
    "La cosa empezó a ponerse seria con el primer dataset del CDC que hemos analizado, en el que también hemos encontrado picos coincidentes con fechas clave de la vacunación (uno al inicio, que ya venía de antes pero que acabó siendo la ola más acusada de toda la pandemia en Estados Unidos, y otro en verano de 2021, mucho mayor que el que vimos en España, y coincidente en parte con la aplicación de la tercera dosis).<br>\n",
    "Analizando cada una de las causas de fallecimiento, vimos incrementos modestos de Enfermedades del Corazón, Enfermedades Cerebrovasculares y Diabetes Mellitus, coincidentes con el pico posterior al inicio de la vacunación, pero lo que realmente nos rompió los esquemas fue el descubrimiento del progresivo ascenso (pero acusadísimo), durante todo 2021, de las muertes relacionadas con una causa escalofriante, que parece ser un cajón de sastre de \"fenómenos extraños\".<br>\n",
    "Mi rigurosidad me impide hacer una afirmación categórica, pero lo cierto es que no se me ocurre otra explicación a este hecho que la masiva vacunación durante 2021.<br><br>\n",
    "Ya al final del camino, un valioso dataset del CDC (aunque truncado) nos permitió analizar lo visto en el anterior \"a través de un prisma\", gracias a una muy lograda subdivisión por grupos de edad (con nada menos que 10 rangos).<br>\n",
    "Al igual que en España, encontramos distribuciones particulares (y difícilmente explicables) de cada uno de los grupos en cada ola (por ejemplo, el pico que más afectó a los tres grupos con edades entre 25 y 54 años fue el de verano de 2021, justamente cuando la mayor parte de ellos fueron vacunados).<br>\n",
    "También comprobamos que el pico de fallecimientos de finales de 2020 y 2021, relacionados con Enfermedades del Corazón, Enfermedades Cerebrovasculares y Diabetes Mellitus, afectó únicamente a los grupos de población superiores a 55, 65 y 45 años, respectivamente, pero no afectó en absoluto a los grupos con edades inferiores. Nada definitvo, quizá, pero sí muy llamativo.<br>\n",
    "Por último, al analizar la macabra causa de muerte descubierta en el dataset anterior, comprobamos sin lugar a dudas que su incidencia pasó de largo por los grupos que no fueron vacunados, como si no existieran, afectando exclusivamente a los demás grupos de edad. Sinceramente, creo que hace falta tener una fe irracional en la ciencia (valga el absurdo) para no asociar este fenómeno a la vacunación (si no con toda seguridad, al menos como causa muy probable), porque los datos hablan por sí mismos.<br><br>\n",
    "Recordemos, además, que en este proyecto solamente hemos analizado fallecimientos (debido a la falta de datos \"reales\" relacionados con la incidencia de ciertas dolencias, o a que yo no he sido capaz de encontrarlos), pero, como hemos visto en los reportes de VAERS, hay muchísimos más casos de efectos adversos, de diversa gravedad, que no han desembocado en fallecimiento, que de efectos adversos que sí han producido la muerte.<br>\n",
    "Pero la cautela y el espíritu científico nos pueden, por lo que tampoco nos atrevemos a afirmar una relación entre la vacunación y un aumento de fallecimientos (y efectos adversos) con rotundidad absoluta, pero de lo que sí estamos seguros, es de que esto DEBE estudiarse en profundidad, y con sumo cuidado, e informar a la población de los resultados que se obtengan. Y personalmente, pienso que datos como los que hemos analizado en este proyecto deberían ser suficientes para suspender de inmediato la vacunación masiva, hasta haber llegado a una conclusión satisfactoria, que no deje lugar a dudas.<br>\n",
    "En cualquier caso, si este proyecto contribuye a que al menos una persona se plantee ciertas preguntas, y decida investigar por su cuenta, mi osadía habrá valido la pena..."
   ]
  },
  {
   "cell_type": "markdown",
   "id": "5455b296-fca8-4455-b581-4d8b33c5e047",
   "metadata": {},
   "source": [
    "---"
   ]
  }
 ],
 "metadata": {
  "kernelspec": {
   "display_name": "Python 3 (ipykernel)",
   "language": "python",
   "name": "python3"
  },
  "language_info": {
   "codemirror_mode": {
    "name": "ipython",
    "version": 3
   },
   "file_extension": ".py",
   "mimetype": "text/x-python",
   "name": "python",
   "nbconvert_exporter": "python",
   "pygments_lexer": "ipython3",
   "version": "3.9.5"
  }
 },
 "nbformat": 4,
 "nbformat_minor": 5
}
